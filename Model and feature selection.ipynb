{
 "cells": [
  {
   "cell_type": "code",
   "execution_count": 1,
   "id": "8be80d8f-5736-4101-8dd5-9dace512837b",
   "metadata": {},
   "outputs": [
    {
     "ename": "NameError",
     "evalue": "name 'MinMaxScaler' is not defined",
     "output_type": "error",
     "traceback": [
      "\u001b[0;31m---------------------------------------------------------------------------\u001b[0m",
      "\u001b[0;31mNameError\u001b[0m                                 Traceback (most recent call last)",
      "Cell \u001b[0;32mIn[1], line 2\u001b[0m\n\u001b[1;32m      1\u001b[0m \u001b[38;5;66;03m#the distribution does not seem normal, so let's use minmaxscaler\u001b[39;00m\n\u001b[0;32m----> 2\u001b[0m scaler \u001b[38;5;241m=\u001b[39m MinMaxScaler()\n\u001b[1;32m      3\u001b[0m df_train[\u001b[38;5;124m'\u001b[39m\u001b[38;5;124maverage_pulse_bpm_scaled\u001b[39m\u001b[38;5;124m'\u001b[39m] \u001b[38;5;241m=\u001b[39m scaler\u001b[38;5;241m.\u001b[39mfit_transform(df_train[[\u001b[38;5;124m'\u001b[39m\u001b[38;5;124maverage_pulse_bpm\u001b[39m\u001b[38;5;124m'\u001b[39m]])\n",
      "\u001b[0;31mNameError\u001b[0m: name 'MinMaxScaler' is not defined"
     ]
    }
   ],
   "source": [
    "#the distribution does not seem normal, so let's use minmaxscaler\n",
    "scaler = MinMaxScaler()\n",
    "df_train['average_pulse_bpm_scaled'] = scaler.fit_transform(df_train[['average_pulse_bpm']])"
   ]
  },
  {
   "cell_type": "code",
   "execution_count": null,
   "id": "a3f16bea-f7cb-462c-a153-9ec6e248ae4d",
   "metadata": {},
   "outputs": [],
   "source": []
  }
 ],
 "metadata": {
  "kernelspec": {
   "display_name": "Python 3 (ipykernel)",
   "language": "python",
   "name": "python3"
  },
  "language_info": {
   "codemirror_mode": {
    "name": "ipython",
    "version": 3
   },
   "file_extension": ".py",
   "mimetype": "text/x-python",
   "name": "python",
   "nbconvert_exporter": "python",
   "pygments_lexer": "ipython3",
   "version": "3.11.4"
  }
 },
 "nbformat": 4,
 "nbformat_minor": 5
}
